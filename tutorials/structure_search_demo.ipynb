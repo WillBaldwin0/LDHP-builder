{
 "cells": [
  {
   "cell_type": "code",
   "execution_count": 1,
   "metadata": {},
   "outputs": [],
   "source": [
    "import ase.io\n",
    "from LDHPbuilder.perovskite_builder import OrganicMolecule, InorganicMonolayer, PerovskiteBuilder\n",
    "import ase.units as units\n",
    "import numpy as np\n",
    "np.random.seed(0)"
   ]
  },
  {
   "cell_type": "markdown",
   "metadata": {},
   "source": [
    "This Notebooks shows how to use LDHP builder to make a set of candidate structures for a 2D hybrid perovskite, and then relax them with a MACE potential."
   ]
  },
  {
   "cell_type": "markdown",
   "metadata": {},
   "source": [
    "# 1) Making Candidate Structures"
   ]
  },
  {
   "cell_type": "markdown",
   "metadata": {},
   "source": [
    "### 1.1) Starting Information\n",
    "\n",
    "Suppose you want to predict the structure formed when a given organic cation is combined with chosen inorganic framework. Currently, our code assumes that the inorganic frameowrk will be a monolayer of corner sharing octahedra of the form $BX_4$. To get started, you therefore need:\n",
    "- a cation geometry in an `ase.Atoms` object, with a known charge\n",
    "- a choice of $B$-site\n",
    "- a choice of $X$-site\n",
    "- an indended unit cell size to search over"
   ]
  },
  {
   "cell_type": "code",
   "execution_count": 2,
   "metadata": {},
   "outputs": [],
   "source": [
    "# load the geometry of an organic cation, for instance from an xyz file:\n",
    "cation_atoms = ase.io.read('cation_plus_2.xyz')"
   ]
  },
  {
   "cell_type": "markdown",
   "metadata": {},
   "source": [
    "### 1.2) Construct an `InorganicMonolayer` object and an `OrganicMolecule` object\n",
    "\n",
    "An `InorganicMonolayer` is an atoms object of a monolayer in a wrapper which contains some useful information for structure generation. You can specify the size of the unit cell in the in-plane directions, through the parameter `num_unit_cell_octahedra`.\n",
    "\n",
    "Similarly, an `OrganicMolecule` object wraps the geometry of the molecule with some useful information and functions. The charge must be specified manually."
   ]
  },
  {
   "cell_type": "code",
   "execution_count": 3,
   "metadata": {},
   "outputs": [],
   "source": [
    "# we will make  monolayer of PbI_4 octahedra, with 2 lead atoms per unit cell\n",
    "monolayer = InorganicMonolayer.from_species_specification('Pb', 'I', num_unit_cell_octahedra=2)\n",
    "\n",
    "molecule = OrganicMolecule(\n",
    "    cation_atoms,\n",
    "    2 # charge - this cation is doubly charged\n",
    ")"
   ]
  },
  {
   "cell_type": "markdown",
   "metadata": {},
   "source": [
    "### 1.3) Generate Samples"
   ]
  },
  {
   "cell_type": "code",
   "execution_count": 4,
   "metadata": {},
   "outputs": [
    {
     "name": "stdout",
     "output_type": "stream",
     "text": [
      "found 1 structures after 0 attempts\n",
      "found 2 structures after 1 attempts\n",
      "found 3 structures after 2 attempts\n",
      "found 4 structures after 3 attempts\n",
      "found 5 structures after 4 attempts\n",
      "found 6 structures after 5 attempts\n",
      "found 7 structures after 6 attempts\n",
      "found 8 structures after 7 attempts\n",
      "found 9 structures after 8 attempts\n",
      "found 10 structures after 9 attempts\n",
      "generated 10 samples after 10 attempts\n"
     ]
    }
   ],
   "source": [
    "pb = PerovskiteBuilder()\n",
    "\n",
    "samples = pb.generate_homogeneous_perovskite_samples( # homogeneous since just one kind of molecule\n",
    "    monolayer, \n",
    "    molecule, \n",
    "    num_layers=1, # should be a power of 2, but 4 already implies a very large search task\n",
    "    num_samples=10, \n",
    "    max_num_attempts=15, \n",
    "    stacking_method='total_thickness' # this can be either 'total_thickness' or 'half_thickness'. use half_thickness for long, thin +1 molecules\n",
    ")\n",
    "\n",
    "# save the samples to a file to inspect them\n",
    "# ase.io.write('samples.xyz', samples)"
   ]
  },
  {
   "cell_type": "markdown",
   "metadata": {},
   "source": [
    "# 2) Relaxing Structures with the MACE calculator"
   ]
  },
  {
   "cell_type": "code",
   "execution_count": 5,
   "metadata": {},
   "outputs": [
    {
     "name": "stderr",
     "output_type": "stream",
     "text": [
      "/Users/will/miniconda3/envs/nomace/lib/python3.9/site-packages/tqdm/auto.py:21: TqdmWarning: IProgress not found. Please update jupyter and ipywidgets. See https://ipywidgets.readthedocs.io/en/stable/user_install.html\n",
      "  from .autonotebook import tqdm as notebook_tqdm\n"
     ]
    }
   ],
   "source": [
    "from mace.calculators.mace import MACECalculator\n",
    "from ase.constraints import UnitCellFilter\n",
    "from ase.optimize.precon import Exp, PreconLBFGS\n",
    "from copy import deepcopy"
   ]
  },
  {
   "cell_type": "markdown",
   "metadata": {},
   "source": [
    "### Relax the Structures\n",
    "\n",
    "We just relax one structure as a demonstration.\n",
    "\n",
    "NOTE: \n",
    "1. The MACE model for 2D perovksites, which was trained for this purpose, can be found via the reference in the README.\n",
    "2. MACE is designed to run on GPU, so relaxations will be mcuh slower on CPU"
   ]
  },
  {
   "cell_type": "code",
   "execution_count": 6,
   "metadata": {},
   "outputs": [
    {
     "name": "stdout",
     "output_type": "stream",
     "text": [
      "PreconLBFGS:   0  12:09:32     -331.047680       7.5923       0.0629\n",
      "PreconLBFGS:   1  12:09:34     -332.109973       7.0576       0.0591\n",
      "PreconLBFGS:   2  12:09:34     -333.017758       6.7628       0.0557\n",
      "PreconLBFGS:   3  12:09:34     -333.960401       6.2168       0.0523\n",
      "PreconLBFGS:   4  12:09:35     -334.811829       6.1174       0.0488\n",
      "PreconLBFGS:   5  12:09:35     -335.818053       5.3546       0.0452\n",
      "PreconLBFGS:   6  12:09:36     -336.710886       5.1013       0.0413\n",
      "PreconLBFGS:   7  12:09:36     -337.736173       4.5544       0.0370\n",
      "PreconLBFGS:   8  12:09:36     -338.775595       4.0692       0.0322\n",
      "PreconLBFGS:   9  12:09:37     -339.739506       3.6928       0.0276\n",
      "PreconLBFGS:  10  12:09:37     -340.347963       3.2282       0.0244\n",
      "PreconLBFGS:  11  12:09:38     -340.781709       3.0467       0.0222\n",
      "PreconLBFGS:  12  12:09:38     -341.106239       2.7891       0.0204\n",
      "PreconLBFGS:  13  12:09:39     -341.363468       2.6607       0.0190\n",
      "PreconLBFGS:  14  12:09:39     -341.575609       2.5253       0.0178\n",
      "PreconLBFGS:  15  12:09:39     -341.755779       2.4206       0.0169\n",
      "PreconLBFGS:  16  12:09:40     -341.913632       2.3330       0.0160\n",
      "PreconLBFGS:  17  12:09:40     -342.054043       2.2477       0.0153\n",
      "PreconLBFGS:  18  12:09:41     -342.181858       2.1828       0.0146\n",
      "PreconLBFGS:  19  12:09:41     -342.299176       2.1131       0.0141\n",
      "PreconLBFGS:  20  12:09:42     -342.408677       2.0603       0.0135\n",
      "PreconLBFGS:  21  12:09:42     -342.511503       2.0033       0.0130\n",
      "PreconLBFGS:  22  12:09:42     -342.609233       1.9578       0.0126\n",
      "PreconLBFGS:  23  12:09:43     -342.702675       1.9102       0.0121\n",
      "PreconLBFGS:  24  12:09:43     -342.792797       1.8698       0.0117\n",
      "PreconLBFGS:  25  12:09:44     -342.880189       1.8288       0.0114\n",
      "PreconLBFGS:  26  12:09:44     -342.965414       1.7919       0.0110\n",
      "PreconLBFGS:  27  12:09:45     -343.048823       1.7550       0.0107\n",
      "PreconLBFGS:  28  12:09:45     -343.130671       1.7204       0.0103\n",
      "PreconLBFGS:  29  12:09:45     -343.211107       1.6857       0.0100\n",
      "PreconLBFGS:  30  12:09:46     -343.290201       1.6522       0.0097\n",
      "PreconLBFGS:  31  12:09:46     -343.367985       1.6186       0.0095\n",
      "PreconLBFGS:  32  12:09:47     -343.444450       1.5858       0.0092\n",
      "PreconLBFGS:  33  12:09:47     -343.519589       1.5531       0.0089\n",
      "PreconLBFGS:  34  12:09:48     -343.593383       1.5212       0.0087\n",
      "PreconLBFGS:  35  12:09:48     -343.665835       1.4896       0.0084\n",
      "PreconLBFGS:  36  12:09:48     -343.736947       1.4590       0.0082\n",
      "PreconLBFGS:  37  12:09:49     -343.806747       1.4292       0.0080\n",
      "PreconLBFGS:  38  12:09:49     -343.875269       1.4003       0.0077\n",
      "PreconLBFGS:  39  12:09:50     -343.942556       1.3724       0.0075\n",
      "PreconLBFGS:  40  12:09:50     -344.008654       1.3455       0.0073\n",
      "PreconLBFGS:  41  12:09:51     -344.073608       1.3195       0.0071\n",
      "PreconLBFGS:  42  12:09:51     -344.137459       1.2943       0.0069\n",
      "PreconLBFGS:  43  12:09:52     -344.200240       1.2701       0.0067\n",
      "PreconLBFGS:  44  12:09:52     -344.261981       1.2466       0.0065\n",
      "PreconLBFGS:  45  12:09:52     -344.322701       1.2239       0.0063\n",
      "PreconLBFGS:  46  12:09:53     -344.382422       1.2019       0.0062\n",
      "PreconLBFGS:  47  12:09:53     -344.441160       1.1806       0.0060\n",
      "PreconLBFGS:  48  12:09:54     -344.498936       1.1598       0.0058\n",
      "PreconLBFGS:  49  12:09:54     -344.555769       1.1397       0.0057\n",
      "PreconLBFGS:  50  12:09:55     -344.611684       1.1200       0.0055\n",
      "PreconLBFGS:  51  12:09:55     -344.666701       1.1010       0.0054\n",
      "PreconLBFGS:  52  12:09:55     -344.720845       1.0823       0.0052\n",
      "PreconLBFGS:  53  12:09:56     -344.774137       1.0642       0.0051\n",
      "PreconLBFGS:  54  12:09:56     -344.826597       1.0466       0.0050\n",
      "PreconLBFGS:  55  12:09:57     -344.878240       1.0294       0.0048\n",
      "PreconLBFGS:  56  12:09:57     -344.929081       1.0126       0.0047\n",
      "PreconLBFGS:  57  12:09:58     -344.979125       0.9962       0.0046\n",
      "PreconLBFGS:   0  12:09:58     -353.429896       1.0238       0.0108\n",
      "PreconLBFGS:   1  12:09:59     -353.533696       0.8140       0.0087\n"
     ]
    }
   ],
   "source": [
    "# copy because relaxations are done in place\n",
    "ats = deepcopy(samples[0])\n",
    "\n",
    "import torch\n",
    "device = 'cuda' if torch.cuda.is_available() else 'cpu'\n",
    "\n",
    "# declare mace calculator - see MACE documentation for details\n",
    "ats.calc = MACECalculator(\n",
    "    model_path='path/to/mace_model.model',\n",
    "    default_dtype='float64',\n",
    "    device=device,\n",
    ")\n",
    "\n",
    "# choose your favourite optimizer \n",
    "# a good strategy is to first relax with an external pressure to prevent vacuum regions\n",
    "ucf = UnitCellFilter(ats, mask=[True for i in range(6)], scalar_pressure=1.0 * units.GPa)\n",
    "dyn = PreconLBFGS(\n",
    "    ucf, \n",
    "    precon='Exp', \n",
    "    trajectory='relaxation_1.traj',\n",
    ")\n",
    "\n",
    "# run the dynamics\n",
    "force_thr = 1e-1  # force tolerance in eV/A\n",
    "dyn.run(fmax=force_thr)\n",
    "\n",
    "# now relax without pressure\n",
    "ucf = UnitCellFilter(ats, mask=[True for i in range(6)], scalar_pressure=0.0 * units.GPa)\n",
    "dyn = PreconLBFGS(\n",
    "    ucf, \n",
    "    precon='Exp', \n",
    "    trajectory='relaxation_2.traj'\n",
    ")\n",
    "force_thr = 1e-2\n",
    "dyn.run(fmax=force_thr)\n",
    "\n",
    "ats.info['final_energy'] = ats.get_potential_energy()"
   ]
  },
  {
   "cell_type": "code",
   "execution_count": 10,
   "metadata": {},
   "outputs": [],
   "source": [
    "full_traj = ase.io.read('relaxation_1.traj', ':') + ase.io.read('relaxation_2.traj', ':')\n",
    "\n",
    "# save it to an xyz\n",
    "ase.io.write('full_relaxation_traj.xyz', full_traj)"
   ]
  },
  {
   "cell_type": "code",
   "execution_count": null,
   "metadata": {},
   "outputs": [],
   "source": []
  }
 ],
 "metadata": {
  "kernelspec": {
   "display_name": "base",
   "language": "python",
   "name": "python3"
  },
  "language_info": {
   "codemirror_mode": {
    "name": "ipython",
    "version": 3
   },
   "file_extension": ".py",
   "mimetype": "text/x-python",
   "name": "python",
   "nbconvert_exporter": "python",
   "pygments_lexer": "ipython3",
   "version": "3.9.15"
  }
 },
 "nbformat": 4,
 "nbformat_minor": 2
}
