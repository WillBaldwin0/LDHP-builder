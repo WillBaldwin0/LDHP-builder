{
 "cells": [
  {
   "cell_type": "code",
   "execution_count": 2,
   "metadata": {},
   "outputs": [],
   "source": [
    "import ase.io\n",
    "from LDHPbuilder.perovskite_builder import OrganicMolecule, InorganicMonolayer, PerovskiteBuilder"
   ]
  },
  {
   "cell_type": "markdown",
   "metadata": {},
   "source": [
    "This Notebooks shows how to use LDHP builder to make a set of candidate structures for a 2D hybrid perovskite, and then relax them with a MACE potential."
   ]
  },
  {
   "cell_type": "markdown",
   "metadata": {},
   "source": [
    "# 1) Making Candidate Structures"
   ]
  },
  {
   "cell_type": "markdown",
   "metadata": {},
   "source": [
    "### 1.1) Starting Information\n",
    "\n",
    "Suppose you want to predict the structure formed when a given organic cation is combined with chosen inorganic framework. Currently, our code assumes that the inorganic frameowrk will be a monolayer of corner sharing octahedra of the form $BX_4$. To get started, you therefore need:\n",
    "- a cation geometry in an `ase.Atoms` object, with a known charge\n",
    "- a choice of $B$-site\n",
    "- a choice of $X$-site\n",
    "- an indended unit cell size to search over"
   ]
  },
  {
   "cell_type": "code",
   "execution_count": 3,
   "metadata": {},
   "outputs": [],
   "source": [
    "# load the geometry of an organic cation, for instance from an xyz file:\n",
    "cation_atoms = ase.io.read('cation_plus_2.xyz')"
   ]
  },
  {
   "cell_type": "markdown",
   "metadata": {},
   "source": [
    "### 1.2) Construct an `InorganicMonolayer` object and an `OrganicMolecule` object\n",
    "\n",
    "An `InorganicMonolayer` is an atoms object of a monolayer in a wrapper which contains some useful information for structure generation. You can specify the size of the unit cell in the in-plane directions, through the parameter `num_unit_cell_octahedra`.\n",
    "\n",
    "Similarly, an `OrganicMolecule` object wraps the geometry of the molecule with some useful information and functions. The charge must be specified manually."
   ]
  },
  {
   "cell_type": "code",
   "execution_count": 8,
   "metadata": {},
   "outputs": [],
   "source": [
    "# we will make  monolayer of PbI_4 octahedra, with 2 lead atoms per unit cell\n",
    "monolayer = InorganicMonolayer.from_species_specification('Pb', 'I', num_unit_cell_octahedra=2)\n",
    "\n",
    "molecule = OrganicMolecule(\n",
    "    cation_atoms,\n",
    "    2 # charge - this cation is doubly charged\n",
    ")"
   ]
  },
  {
   "cell_type": "markdown",
   "metadata": {},
   "source": [
    "### 1.3) Generate Samples"
   ]
  },
  {
   "cell_type": "code",
   "execution_count": 9,
   "metadata": {},
   "outputs": [
    {
     "name": "stdout",
     "output_type": "stream",
     "text": [
      "found 1 structures after 0 attempts\n",
      "found 2 structures after 1 attempts\n",
      "found 3 structures after 2 attempts\n",
      "found 4 structures after 3 attempts\n",
      "found 5 structures after 4 attempts\n",
      "found 6 structures after 5 attempts\n",
      "found 7 structures after 6 attempts\n",
      "found 8 structures after 7 attempts\n",
      "found 9 structures after 8 attempts\n",
      "found 10 structures after 9 attempts\n",
      "found 11 structures after 10 attempts\n",
      "found 12 structures after 11 attempts\n",
      "found 13 structures after 12 attempts\n",
      "found 14 structures after 13 attempts\n",
      "found 15 structures after 14 attempts\n",
      "found 16 structures after 15 attempts\n",
      "found 17 structures after 16 attempts\n",
      "found 18 structures after 17 attempts\n",
      "found 19 structures after 18 attempts\n",
      "found 20 structures after 19 attempts\n",
      "found 21 structures after 20 attempts\n",
      "found 22 structures after 21 attempts\n",
      "found 23 structures after 22 attempts\n",
      "found 24 structures after 23 attempts\n",
      "found 25 structures after 24 attempts\n",
      "found 26 structures after 25 attempts\n",
      "found 27 structures after 26 attempts\n",
      "found 28 structures after 27 attempts\n",
      "found 29 structures after 28 attempts\n",
      "found 30 structures after 29 attempts\n",
      "found 31 structures after 30 attempts\n",
      "found 32 structures after 31 attempts\n",
      "found 33 structures after 32 attempts\n",
      "found 34 structures after 33 attempts\n",
      "found 35 structures after 34 attempts\n",
      "found 36 structures after 35 attempts\n",
      "found 37 structures after 36 attempts\n",
      "found 38 structures after 37 attempts\n",
      "found 39 structures after 38 attempts\n",
      "found 40 structures after 39 attempts\n",
      "found 41 structures after 40 attempts\n",
      "found 42 structures after 41 attempts\n",
      "found 43 structures after 42 attempts\n",
      "found 44 structures after 43 attempts\n",
      "found 45 structures after 44 attempts\n",
      "found 46 structures after 45 attempts\n",
      "found 47 structures after 46 attempts\n",
      "found 48 structures after 47 attempts\n",
      "found 49 structures after 48 attempts\n",
      "found 50 structures after 49 attempts\n",
      "found 51 structures after 50 attempts\n",
      "found 52 structures after 51 attempts\n",
      "found 53 structures after 52 attempts\n",
      "found 54 structures after 53 attempts\n",
      "found 55 structures after 54 attempts\n",
      "found 56 structures after 55 attempts\n",
      "found 57 structures after 56 attempts\n",
      "found 58 structures after 57 attempts\n",
      "found 59 structures after 58 attempts\n",
      "found 60 structures after 59 attempts\n",
      "found 61 structures after 60 attempts\n",
      "found 62 structures after 61 attempts\n",
      "found 63 structures after 62 attempts\n",
      "found 64 structures after 63 attempts\n",
      "found 65 structures after 64 attempts\n",
      "found 66 structures after 65 attempts\n",
      "found 67 structures after 66 attempts\n",
      "found 68 structures after 67 attempts\n",
      "found 69 structures after 68 attempts\n",
      "found 70 structures after 69 attempts\n",
      "found 71 structures after 70 attempts\n",
      "found 72 structures after 71 attempts\n",
      "found 73 structures after 72 attempts\n",
      "found 74 structures after 73 attempts\n",
      "found 75 structures after 74 attempts\n",
      "found 76 structures after 75 attempts\n",
      "found 77 structures after 76 attempts\n",
      "found 78 structures after 77 attempts\n",
      "found 79 structures after 78 attempts\n",
      "found 80 structures after 79 attempts\n",
      "found 81 structures after 80 attempts\n",
      "found 82 structures after 81 attempts\n",
      "found 83 structures after 82 attempts\n",
      "found 84 structures after 83 attempts\n",
      "found 85 structures after 84 attempts\n",
      "found 86 structures after 85 attempts\n",
      "found 87 structures after 86 attempts\n",
      "found 88 structures after 87 attempts\n",
      "found 89 structures after 88 attempts\n",
      "found 90 structures after 89 attempts\n",
      "found 91 structures after 90 attempts\n",
      "found 92 structures after 91 attempts\n",
      "found 93 structures after 92 attempts\n",
      "found 94 structures after 93 attempts\n",
      "found 95 structures after 94 attempts\n",
      "found 96 structures after 95 attempts\n",
      "found 97 structures after 96 attempts\n",
      "found 98 structures after 97 attempts\n",
      "found 99 structures after 98 attempts\n",
      "found 100 structures after 99 attempts\n",
      "generated 100 samples after 100 attempts\n"
     ]
    }
   ],
   "source": [
    "pb = PerovskiteBuilder()\n",
    "\n",
    "samples = pb.generate_homogeneous_perovskite_samples( # homogeneous since just one kind of molecule\n",
    "    monolayer, \n",
    "    molecule, \n",
    "    num_layers=1, # should be a power of 2, but 4 already implies a very large search task\n",
    "    num_samples=100, \n",
    "    max_num_attempts=150, \n",
    "    stacking_method='total_thickness' # this can be either 'total_thickness' or 'half_thickness'. use half_thickness for long, thin +1 molecules\n",
    ")\n",
    "\n",
    "# save the samples to a file to inspect them\n",
    "# ase.io.write('samples.xyz', samples)"
   ]
  },
  {
   "cell_type": "markdown",
   "metadata": {},
   "source": [
    "# 2) Relaxing Structures with the MACE calculator"
   ]
  },
  {
   "cell_type": "code",
   "execution_count": null,
   "metadata": {},
   "outputs": [],
   "source": [
    "# TODO"
   ]
  }
 ],
 "metadata": {
  "kernelspec": {
   "display_name": "base",
   "language": "python",
   "name": "python3"
  },
  "language_info": {
   "codemirror_mode": {
    "name": "ipython",
    "version": 3
   },
   "file_extension": ".py",
   "mimetype": "text/x-python",
   "name": "python",
   "nbconvert_exporter": "python",
   "pygments_lexer": "ipython3",
   "version": "3.9.15"
  }
 },
 "nbformat": 4,
 "nbformat_minor": 2
}
